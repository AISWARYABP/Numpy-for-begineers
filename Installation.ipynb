{
  "nbformat": 4,
  "nbformat_minor": 0,
  "metadata": {
    "colab": {
      "provenance": []
    },
    "kernelspec": {
      "name": "python3",
      "display_name": "Python 3"
    },
    "language_info": {
      "name": "python"
    }
  },
  "cells": [
    {
      "cell_type": "markdown",
      "source": [
        "Install NumPy using pip:"
      ],
      "metadata": {
        "id": "DmwMMhFW87aa"
      }
    },
    {
      "cell_type": "code",
      "source": [
        "pip install numpy\n"
      ],
      "metadata": {
        "colab": {
          "base_uri": "https://localhost:8080/"
        },
        "id": "bujL9sPW86jI",
        "outputId": "f63ba494-49b2-46e9-8fd8-3a4b32f09704"
      },
      "execution_count": 1,
      "outputs": [
        {
          "output_type": "stream",
          "name": "stdout",
          "text": [
            "Requirement already satisfied: numpy in /usr/local/lib/python3.10/dist-packages (1.26.4)\n"
          ]
        }
      ]
    },
    {
      "cell_type": "markdown",
      "source": [
        "Importing NumPy"
      ],
      "metadata": {
        "id": "hYojsaRG9Gne"
      }
    },
    {
      "cell_type": "code",
      "source": [
        "import numpy as np\n"
      ],
      "metadata": {
        "id": "D47eXl5z9FAq"
      },
      "execution_count": 2,
      "outputs": []
    },
    {
      "cell_type": "markdown",
      "source": [
        "Creating Arrays :"
      ],
      "metadata": {
        "id": "NSQ74wyz9sJw"
      }
    },
    {
      "cell_type": "markdown",
      "source": [
        "Creating 1-D array"
      ],
      "metadata": {
        "id": "K5JsCmNS9xYm"
      }
    },
    {
      "cell_type": "code",
      "source": [
        "# 1D array\n",
        "arr_1d = np.array([1, 2, 3, 4])\n",
        "print(\"1D Array:\", arr_1d)\n",
        "\n",
        "\n"
      ],
      "metadata": {
        "colab": {
          "base_uri": "https://localhost:8080/"
        },
        "id": "GVOqqx9V9P0X",
        "outputId": "51ac62c4-6c5c-4606-c29c-fb1fc137c42d"
      },
      "execution_count": 3,
      "outputs": [
        {
          "output_type": "stream",
          "name": "stdout",
          "text": [
            "1D Array: [1 2 3 4]\n"
          ]
        }
      ]
    },
    {
      "cell_type": "code",
      "source": [
        "# 2D array\n",
        "arr_2d = np.array([[1, 2, 3], [4, 5, 6]])\n",
        "print(\"\\n2D Array:\\n\", arr_2d)"
      ],
      "metadata": {
        "colab": {
          "base_uri": "https://localhost:8080/"
        },
        "id": "t8o7bB_j95Tf",
        "outputId": "1ce5b3d6-371c-415f-8aa8-70b9c943e75d"
      },
      "execution_count": 4,
      "outputs": [
        {
          "output_type": "stream",
          "name": "stdout",
          "text": [
            "\n",
            "2D Array:\n",
            " [[1 2 3]\n",
            " [4 5 6]]\n"
          ]
        }
      ]
    },
    {
      "cell_type": "code",
      "source": [
        "# 3D array\n",
        "arr_3d = np.array([[[1, 2], [3, 4]], [[5, 6], [7, 8]]])\n",
        "print(\"\\n3D Array:\\n\", arr_3d)"
      ],
      "metadata": {
        "colab": {
          "base_uri": "https://localhost:8080/"
        },
        "id": "IjZbC0zT-CAs",
        "outputId": "3371bf90-b139-4c04-9aa8-92d26ea56481"
      },
      "execution_count": 5,
      "outputs": [
        {
          "output_type": "stream",
          "name": "stdout",
          "text": [
            "\n",
            "3D Array:\n",
            " [[[1 2]\n",
            "  [3 4]]\n",
            "\n",
            " [[5 6]\n",
            "  [7 8]]]\n"
          ]
        }
      ]
    },
    {
      "cell_type": "markdown",
      "source": [
        "Array Attributes"
      ],
      "metadata": {
        "id": "68jp5oRm-QEW"
      }
    },
    {
      "cell_type": "code",
      "source": [
        "print(\"Shape:\", arr_3d.shape)  # Shape of the array"
      ],
      "metadata": {
        "colab": {
          "base_uri": "https://localhost:8080/"
        },
        "id": "pb_1pmZx-O3n",
        "outputId": "4c52b9b6-9af4-4298-aa98-4c9ef43eab18"
      },
      "execution_count": 8,
      "outputs": [
        {
          "output_type": "stream",
          "name": "stdout",
          "text": [
            "Shape: (2, 2, 2)\n"
          ]
        }
      ]
    },
    {
      "cell_type": "code",
      "source": [
        "print(\"Size:\", arr_3d.size)    # Total elements\n",
        "print(\"Data Type:\", arr_3d.dtype)  # Data type of elements"
      ],
      "metadata": {
        "colab": {
          "base_uri": "https://localhost:8080/"
        },
        "id": "7Fn_qqVf-cFO",
        "outputId": "fa77b8f8-8043-4c7d-c084-e629b5ef38be"
      },
      "execution_count": 9,
      "outputs": [
        {
          "output_type": "stream",
          "name": "stdout",
          "text": [
            "Size: 8\n",
            "Data Type: int64\n"
          ]
        }
      ]
    }
  ]
}