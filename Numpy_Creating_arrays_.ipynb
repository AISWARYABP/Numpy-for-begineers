{
  "nbformat": 4,
  "nbformat_minor": 0,
  "metadata": {
    "colab": {
      "provenance": []
    },
    "kernelspec": {
      "name": "python3",
      "display_name": "Python 3"
    },
    "language_info": {
      "name": "python"
    }
  },
  "cells": [
    {
      "cell_type": "markdown",
      "source": [
        "1. Creating Arrays from Lists :\n",
        "\n",
        "Convert a Python list or tuple into a NumPy array using numpy.array():"
      ],
      "metadata": {
        "id": "O95gY7Wi3Nes"
      }
    },
    {
      "cell_type": "code",
      "execution_count": 1,
      "metadata": {
        "colab": {
          "base_uri": "https://localhost:8080/"
        },
        "id": "NVHJ3w_H27BI",
        "outputId": "15f1d214-4237-4a59-c492-ea2404b676cd"
      },
      "outputs": [
        {
          "output_type": "stream",
          "name": "stdout",
          "text": [
            "[1 2 3 4]\n",
            "[5 6 7 8]\n"
          ]
        }
      ],
      "source": [
        "import numpy as np\n",
        "\n",
        "# From a list\n",
        "arr1 = np.array([1, 2, 3, 4])\n",
        "print(arr1)\n",
        "\n",
        "# From a tuple\n",
        "arr2 = np.array((5, 6, 7, 8))\n",
        "print(arr2)\n"
      ]
    },
    {
      "cell_type": "markdown",
      "source": [
        "2. Arrays with Default Values\n",
        "NumPy provides functions to create arrays with specific values or patterns.\n",
        "\n",
        "Array of zeros:"
      ],
      "metadata": {
        "id": "YPKWD4R13d7A"
      }
    },
    {
      "cell_type": "code",
      "source": [
        "zeros = np.zeros((2, 3))  # 2x3 array of zeros\n",
        "print(zeros)\n"
      ],
      "metadata": {
        "colab": {
          "base_uri": "https://localhost:8080/"
        },
        "id": "GgcqOfwC3gYR",
        "outputId": "efb17141-5651-40ea-a263-d75c2e63f340"
      },
      "execution_count": 2,
      "outputs": [
        {
          "output_type": "stream",
          "name": "stdout",
          "text": [
            "[[0. 0. 0.]\n",
            " [0. 0. 0.]]\n"
          ]
        }
      ]
    },
    {
      "cell_type": "markdown",
      "source": [
        "Array of ones:"
      ],
      "metadata": {
        "id": "IWz92pJ53q4Y"
      }
    },
    {
      "cell_type": "code",
      "source": [
        "ones = np.ones((3, 4))  # 3x4 array of ones\n",
        "print(ones)\n"
      ],
      "metadata": {
        "colab": {
          "base_uri": "https://localhost:8080/"
        },
        "id": "3HmIUmnG3uel",
        "outputId": "8454ca9f-98ab-4558-bb39-70d51d55e45a"
      },
      "execution_count": 3,
      "outputs": [
        {
          "output_type": "stream",
          "name": "stdout",
          "text": [
            "[[1. 1. 1. 1.]\n",
            " [1. 1. 1. 1.]\n",
            " [1. 1. 1. 1.]]\n"
          ]
        }
      ]
    },
    {
      "cell_type": "markdown",
      "source": [
        "Empty array (uninitialized values):"
      ],
      "metadata": {
        "id": "wQ-5L9lQ3xIP"
      }
    },
    {
      "cell_type": "code",
      "source": [
        "empty = np.empty((2, 3))  # 2x3 array with random values\n",
        "print(empty)\n"
      ],
      "metadata": {
        "colab": {
          "base_uri": "https://localhost:8080/"
        },
        "id": "LRE1NyQ83124",
        "outputId": "efba6af3-92fc-481d-ec30-aa0d605b9488"
      },
      "execution_count": 4,
      "outputs": [
        {
          "output_type": "stream",
          "name": "stdout",
          "text": [
            "[[0. 0. 0.]\n",
            " [0. 0. 0.]]\n"
          ]
        }
      ]
    },
    {
      "cell_type": "markdown",
      "source": [
        "Identity matrix:"
      ],
      "metadata": {
        "id": "q90jV9kC34fy"
      }
    },
    {
      "cell_type": "code",
      "source": [
        "identity = np.eye(3)  # 3x3 identity matrix\n",
        "print(identity)\n"
      ],
      "metadata": {
        "colab": {
          "base_uri": "https://localhost:8080/"
        },
        "id": "3IB2eb8b37eE",
        "outputId": "ffed9dfb-30a6-4501-ed3a-8b4786c3ada8"
      },
      "execution_count": 5,
      "outputs": [
        {
          "output_type": "stream",
          "name": "stdout",
          "text": [
            "[[1. 0. 0.]\n",
            " [0. 1. 0.]\n",
            " [0. 0. 1.]]\n"
          ]
        }
      ]
    },
    {
      "cell_type": "markdown",
      "source": [
        "3. Arrays with Ranges of Numbers:\n",
        "\n",
        "Using arange():\n",
        "\n",
        "\n",
        "\n"
      ],
      "metadata": {
        "id": "sARsyu-Z4FbV"
      }
    },
    {
      "cell_type": "code",
      "source": [
        "arr_range = np.arange(0, 10, 2)  # Numbers from 0 to 10 with a step of 2\n",
        "print(arr_range)\n"
      ],
      "metadata": {
        "colab": {
          "base_uri": "https://localhost:8080/"
        },
        "id": "2ums2XKL4IxF",
        "outputId": "7d4fb752-8111-484b-ed07-bbd1cd4a84da"
      },
      "execution_count": 6,
      "outputs": [
        {
          "output_type": "stream",
          "name": "stdout",
          "text": [
            "[0 2 4 6 8]\n"
          ]
        }
      ]
    },
    {
      "cell_type": "markdown",
      "source": [
        "Using linspace():"
      ],
      "metadata": {
        "id": "RadoRPHC4SD9"
      }
    },
    {
      "cell_type": "code",
      "source": [
        "lin_space = np.linspace(0, 1, 5)  # 5 equally spaced numbers between 0 and 1\n",
        "print(lin_space)\n"
      ],
      "metadata": {
        "colab": {
          "base_uri": "https://localhost:8080/"
        },
        "id": "mq4R2fmQ4VQ_",
        "outputId": "3c3b3711-f4e9-4a91-8f00-bfef41fe2be2"
      },
      "execution_count": 7,
      "outputs": [
        {
          "output_type": "stream",
          "name": "stdout",
          "text": [
            "[0.   0.25 0.5  0.75 1.  ]\n"
          ]
        }
      ]
    },
    {
      "cell_type": "markdown",
      "source": [
        "4. Random Arrays\n",
        "\n",
        "Generate random values for arrays.\n",
        "\n",
        "Random floats:"
      ],
      "metadata": {
        "id": "xpFHUkSu4Yl7"
      }
    },
    {
      "cell_type": "code",
      "source": [
        "rand = np.random.rand(3, 3)  # 3x3 array with random floats in [0, 1)\n",
        "print(rand)\n"
      ],
      "metadata": {
        "colab": {
          "base_uri": "https://localhost:8080/"
        },
        "id": "NdLi1buy4cwI",
        "outputId": "2357bb0f-8672-49bf-c889-ada2f92f5aa9"
      },
      "execution_count": 8,
      "outputs": [
        {
          "output_type": "stream",
          "name": "stdout",
          "text": [
            "[[0.32007712 0.95042683 0.48008947]\n",
            " [0.18844107 0.75709301 0.45736387]\n",
            " [0.34871163 0.4474464  0.56761052]]\n"
          ]
        }
      ]
    },
    {
      "cell_type": "markdown",
      "source": [
        "Random integers:"
      ],
      "metadata": {
        "id": "BTgakRGz4gau"
      }
    },
    {
      "cell_type": "code",
      "source": [
        "randint = np.random.randint(0, 10, (2, 3))  # 2x3 array of random integers between 0 and 9\n",
        "print(randint)\n"
      ],
      "metadata": {
        "colab": {
          "base_uri": "https://localhost:8080/"
        },
        "id": "wHyXTD574puk",
        "outputId": "5b80f081-8bf9-4a71-edd7-5bd964623e14"
      },
      "execution_count": 9,
      "outputs": [
        {
          "output_type": "stream",
          "name": "stdout",
          "text": [
            "[[6 5 8]\n",
            " [0 1 8]]\n"
          ]
        }
      ]
    },
    {
      "cell_type": "markdown",
      "source": [
        "Checking Array Properties"
      ],
      "metadata": {
        "id": "LyAfOEAH47mP"
      }
    },
    {
      "cell_type": "code",
      "source": [
        "print(arr1.shape)  # Shape of the array\n",
        "print(arr1.ndim)   # Number of dimensions\n",
        "print(arr1.size)   # Total number of elements\n",
        "print(arr1.dtype)  # Data type of elements\n"
      ],
      "metadata": {
        "colab": {
          "base_uri": "https://localhost:8080/"
        },
        "id": "LIljPW8m5CMl",
        "outputId": "d4fa9093-8b14-466e-d201-c6c0db241c8c"
      },
      "execution_count": 10,
      "outputs": [
        {
          "output_type": "stream",
          "name": "stdout",
          "text": [
            "(4,)\n",
            "1\n",
            "4\n",
            "int64\n"
          ]
        }
      ]
    },
    {
      "cell_type": "code",
      "source": [
        "import numpy as np\n",
        "\n",
        "arr = np.array((1, 2, 3, 4, 5))\n",
        "\n",
        "print(arr)"
      ],
      "metadata": {
        "colab": {
          "base_uri": "https://localhost:8080/"
        },
        "id": "NZusC71Y5Pte",
        "outputId": "a381b97d-793e-4bc3-809a-a677c7ad1864"
      },
      "execution_count": 11,
      "outputs": [
        {
          "output_type": "stream",
          "name": "stdout",
          "text": [
            "[1 2 3 4 5]\n"
          ]
        }
      ]
    }
  ]
}